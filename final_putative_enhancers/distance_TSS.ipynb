{
 "cells": [
  {
   "cell_type": "code",
   "execution_count": 3,
   "id": "767ea777",
   "metadata": {
    "scrolled": false
   },
   "outputs": [
    {
     "name": "stderr",
     "output_type": "stream",
     "text": [
      "/tmp/ipykernel_17217/3102916113.py:9: SettingWithCopyWarning: \n",
      "A value is trying to be set on a copy of a slice from a DataFrame.\n",
      "Try using .loc[row_indexer,col_indexer] = value instead\n",
      "\n",
      "See the caveats in the documentation: https://pandas.pydata.org/pandas-docs/stable/user_guide/indexing.html#returning-a-view-versus-a-copy\n",
      "  distance_DataFrame_1['category'] = 'H3K27ac_no_H3K4me3'\n",
      "/tmp/ipykernel_17217/3102916113.py:13: SettingWithCopyWarning: \n",
      "A value is trying to be set on a copy of a slice from a DataFrame.\n",
      "Try using .loc[row_indexer,col_indexer] = value instead\n",
      "\n",
      "See the caveats in the documentation: https://pandas.pydata.org/pandas-docs/stable/user_guide/indexing.html#returning-a-view-versus-a-copy\n",
      "  distance_DataFrame_2['category'] = 'H3K27ac_with_H3K4me3'\n",
      "/tmp/ipykernel_17217/3102916113.py:17: SettingWithCopyWarning: \n",
      "A value is trying to be set on a copy of a slice from a DataFrame.\n",
      "Try using .loc[row_indexer,col_indexer] = value instead\n",
      "\n",
      "See the caveats in the documentation: https://pandas.pydata.org/pandas-docs/stable/user_guide/indexing.html#returning-a-view-versus-a-copy\n",
      "  distance_DataFrame_3['category'] = 'H3K4me3_noH3K27ac'\n"
     ]
    },
    {
     "data": {
      "image/png": "[encoded data removed]",
      "text/plain": [
       "<Figure size 504x432 with 1 Axes>"
      ]
     },
     "metadata": {
      "needs_background": "light"
     },
     "output_type": "display_data"
    }
   ],
   "source": [
    "import pandas as pd\n",
    "import seaborn as sns\n",
    "import matplotlib.pyplot as plt\n",
    "\n",
    "colnames=['Experiment_Info1', 'Experiment_Info2', 'Experiment_Info3', 'Experiment_Info4', 'Experiment_Info5','Experiment_Info6','Experiment_Info7','Experiment_Info8', 'Experiment_Info9', 'Experiment_Info10', 'Experiment_Info11', 'Experiment_Info12', 'Experiment_Info13', 'Experiment_Info14', 'Experiment_Info15', 'Experiment_Info16', 'distance_enh']\n",
    "\n",
    "df_1=pd.read_csv('closest_TSS_to_chr_wt_H3K27ac_noH3K4me3_peaks', sep='\\t', comment='#', names=colnames, header=None, index_col=False)\n",
    "distance_DataFrame_1=df_1[['distance_enh']]\n",
    "distance_DataFrame_1['category'] = 'H3K27ac_no_H3K4me3'\n",
    "\n",
    "df_2=pd.read_csv('closest_TSS_to_chr_wt_H3K27ac_withH3K4me3_peaks', sep='\\t', comment='#', names=colnames, header=None, index_col=False)\n",
    "distance_DataFrame_2=df_2[['distance_enh']]\n",
    "distance_DataFrame_2['category'] = 'H3K27ac_with_H3K4me3'\n",
    "\n",
    "df_3=pd.read_csv('closest_TSS_to_chr_wt_H3K4me3_noH3K27ac_peaks', sep='\\t', comment='#', names=colnames, header=None, index_col=False)\n",
    "distance_DataFrame_3=df_3[['distance_enh']]\n",
    "distance_DataFrame_3['category'] = 'H3K4me3_noH3K27ac'\n",
    "\n",
    "distance_DataFrame=pd.concat((distance_DataFrame_1, distance_DataFrame_2, distance_DataFrame_3), axis = 0)\n",
    "distance_DataFrame\n",
    "\n",
    "filtered_distance_DataFrame = distance_DataFrame[distance_DataFrame['distance_enh'] < 50000 ] \n",
    "\n",
    "f, ax = plt.subplots(figsize=(7, 6))\n",
    "ax.set_yscale(\"log\")\n",
    "gfg = sns.boxplot(data = distance_DataFrame , x = 'category' , y = 'distance_enh' )\n",
    "\n",
    "distance_DataFrame.groupby(\"category\").distance_enh.describe().unstack()\n",
    "distance_DataFrame_1['distance_enh'].median()\n",
    "distance_DataFrame_2['distance_enh'].median()\n",
    "plt.savefig(\"H3K27ac_distance_to_TSS.svg\",format='svg')"
   ]
  },
  {
   "cell_type": "code",
   "execution_count": null,
   "id": "a444d5f2",
   "metadata": {},
   "outputs": [],
   "source": [
    "\n"
   ]
  }
 ],
 "metadata": {
  "kernelspec": {
   "display_name": "Python 3 (ipykernel)",
   "language": "python",
   "name": "python3"
  },
  "language_info": {
   "codemirror_mode": {
    "name": "ipython",
    "version": 3
   },
   "file_extension": ".py",
   "mimetype": "text/x-python",
   "name": "python",
   "nbconvert_exporter": "python",
   "pygments_lexer": "ipython3",
   "version": "3.8.13"
  }
 },
 "nbformat": 4,
 "nbformat_minor": 5
}
